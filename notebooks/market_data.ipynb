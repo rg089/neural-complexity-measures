{
  "cells": [
    {
      "cell_type": "markdown",
      "metadata": {
        "colab_type": "text",
        "id": "view-in-github"
      },
      "source": [
        "<a href=\"https://colab.research.google.com/github/gmshroff/metaLearning2022/blob/main/project_data_code/market_data.ipynb\" target=\"_parent\"><img src=\"https://colab.research.google.com/assets/colab-badge.svg\" alt=\"Open In Colab\"/></a>"
      ]
    },
    {
      "cell_type": "code",
      "execution_count": 1,
      "metadata": {
        "id": "Va8MDpQIRYrQ"
      },
      "outputs": [],
      "source": [
        "import numpy as np\n",
        "import pandas as pd\n",
        "import json\n",
        "import matplotlib.pyplot as plt \n",
        "import torch\n",
        "from datetime import datetime\n",
        "from torch.utils.data import Dataset\n",
        "from sklearn.preprocessing import StandardScaler\n",
        "import pickle"
      ]
    },
    {
      "cell_type": "code",
      "execution_count": 2,
      "metadata": {
        "id": "ih0oEFWDVFmT"
      },
      "outputs": [],
      "source": [
        "class TsDS(Dataset):\n",
        "    def __init__(self, XL,yL,flatten=False,lno=None,long=True):\n",
        "        self.samples=[]\n",
        "        self.labels=[]\n",
        "        self.flatten=flatten\n",
        "        self.lno=lno\n",
        "        self.long=long\n",
        "        self.scaler = StandardScaler()\n",
        "        for X,Y in zip(XL,yL):\n",
        "            self.samples += [torch.tensor(X).float()]\n",
        "            self.labels += [torch.tensor(Y)]\n",
        "            \n",
        "    def __len__(self):\n",
        "        return sum([s.shape[0] for s in self.samples])\n",
        "\n",
        "    def __getitem__(self, idx):\n",
        "        if self.flatten: sample=self.samples[idx].flatten(start_dim=1)\n",
        "        else: sample=self.samples[idx]\n",
        "        if self.lno==None: label=self.labels[idx]\n",
        "        elif self.long: label=self.labels[idx][:,self.lno].long()\n",
        "        else: label=self.labels[idx][:,self.lno].float()\n",
        "        return (sample,label)\n",
        "\n",
        "    def fit(self,kind='seq'):\n",
        "        if kind=='seq':\n",
        "            self.lastelems=[torch.cat([s[:,-1,:] for s in self.samples],dim=0)]\n",
        "            self.scaler.fit(torch.cat([le for le in self.lastelems],dim=0))            \n",
        "        elif kind=='flat': self.scaler.fit(torch.cat([s for s in self.samples],dim=0))\n",
        "    def scale(self,kind='flat',scaler=None):\n",
        "        def cs(s):\n",
        "            return (s.shape[0]*s.shape[1],s.shape[2])\n",
        "        if scaler==None: scaler=self.scaler\n",
        "        if kind=='seq':\n",
        "            self.samples=[torch.tensor(scaler.transform(s.reshape(cs(s))).reshape(s.shape)).float() for s in self.samples]\n",
        "            pass\n",
        "        elif kind=='flat':\n",
        "            self.samples=[torch.tensor(scaler.transform(s)).float() for s in self.samples]\n",
        "    def unscale(self,kind='flat',scaler=None):\n",
        "        def cs(s):\n",
        "            return (s.shape[0]*s.shape[1],s.shape[2])\n",
        "        if scaler==None: scaler=self.scaler\n",
        "        if kind=='seq':\n",
        "            self.samples=[torch.tensor(scaler.inverse_transform(s.reshape(cs(s))).reshape(s.shape)).float() for s in self.samples]\n",
        "            pass\n",
        "        elif kind=='flat':\n",
        "            self.samples=[torch.tensor(scaler.inverse_transform(s)).float() for s in self.samples]"
      ]
    },
    {
      "cell_type": "code",
      "execution_count": 3,
      "metadata": {
        "execution": {
          "iopub.execute_input": "2022-01-31T11:02:36.101108Z",
          "iopub.status.busy": "2022-01-31T11:02:36.10071Z",
          "iopub.status.idle": "2022-01-31T11:02:36.663754Z",
          "shell.execute_reply": "2022-01-31T11:02:36.662709Z",
          "shell.execute_reply.started": "2022-01-31T11:02:36.10107Z"
        },
        "id": "oZu6xSccQAzm",
        "trusted": true
      },
      "outputs": [
        {
          "name": "stderr",
          "output_type": "stream",
          "text": [
            "/Users/rishabh/miniforge3/envs/tensorflow/lib/python3.9/site-packages/sklearn/base.py:329: UserWarning: Trying to unpickle estimator StandardScaler from version 1.0.1 when using version 1.0.2. This might lead to breaking code or invalid results. Use at your own risk. For more info please refer to:\n",
            "https://scikit-learn.org/stable/modules/model_persistence.html#security-maintainability-limitations\n",
            "  warnings.warn(\n"
          ]
        }
      ],
      "source": [
        "with open('./marketdata/train_cs_0_0_2.pickle','rb') as f: train_cs=pickle.load(f)"
      ]
    },
    {
      "cell_type": "code",
      "execution_count": 7,
      "metadata": {},
      "outputs": [
        {
          "data": {
            "text/plain": [
              "<__main__.TsDS at 0x105681130>"
            ]
          },
          "execution_count": 7,
          "metadata": {},
          "output_type": "execute_result"
        }
      ],
      "source": [
        "train_cs"
      ]
    },
    {
      "cell_type": "code",
      "execution_count": 4,
      "metadata": {
        "id": "ZFh9v_LoVoFc"
      },
      "outputs": [
        {
          "data": {
            "text/plain": [
              "torch.Size([32, 23])"
            ]
          },
          "execution_count": 4,
          "metadata": {},
          "output_type": "execute_result"
        }
      ],
      "source": [
        "train_cs.samples[0].shape"
      ]
    },
    {
      "cell_type": "code",
      "execution_count": 5,
      "metadata": {
        "id": "cE9XPQt4VyA1"
      },
      "outputs": [],
      "source": [
        "with open('./marketdata/train_ds_0_0_2.pickle','rb') as f: train_ds=pickle.load(f)"
      ]
    },
    {
      "cell_type": "code",
      "execution_count": 12,
      "metadata": {},
      "outputs": [
        {
          "data": {
            "text/plain": [
              "torch.Size([32, 20, 18])"
            ]
          },
          "execution_count": 12,
          "metadata": {},
          "output_type": "execute_result"
        }
      ],
      "source": [
        "train_ds.samples[0].shape"
      ]
    },
    {
      "cell_type": "code",
      "execution_count": 16,
      "metadata": {
        "id": "NH3DoLSwV2QW"
      },
      "outputs": [
        {
          "data": {
            "text/plain": [
              "tensor([0.8385, 0.8385, 0.8385, 0.8385, 0.8385, 0.8385, 0.8385, 0.8385, 0.8385,\n",
              "        0.8385, 0.8385, 0.6911, 0.6797, 1.0747, 1.0010, 1.1579, 0.7969, 0.6854,\n",
              "        0.8026, 0.7988])"
            ]
          },
          "execution_count": 16,
          "metadata": {},
          "output_type": "execute_result"
        }
      ],
      "source": [
        "train_ds.samples[0][0][:, 3]"
      ]
    },
    {
      "cell_type": "code",
      "execution_count": 8,
      "metadata": {
        "id": "LJ1_T5UUWOEx"
      },
      "outputs": [
        {
          "data": {
            "text/plain": [
              "tensor([1.0063, 1.0060, 1.0058, 0.9914, 0.9916, 0.9918, 1.0000, 0.0000, 1.0000,\n",
              "        3.0000], dtype=torch.float64)"
            ]
          },
          "execution_count": 8,
          "metadata": {},
          "output_type": "execute_result"
        }
      ],
      "source": [
        "train_cs.labels[0][0]"
      ]
    },
    {
      "cell_type": "code",
      "execution_count": 9,
      "metadata": {
        "id": "n7sAzSU3WU3x"
      },
      "outputs": [
        {
          "data": {
            "text/plain": [
              "tensor([1.0063, 1.0060, 1.0058, 0.9914, 0.9916, 0.9918, 1.0000, 0.0000, 1.0000,\n",
              "        3.0000], dtype=torch.float64)"
            ]
          },
          "execution_count": 9,
          "metadata": {},
          "output_type": "execute_result"
        }
      ],
      "source": [
        "train_ds.labels[0][0]"
      ]
    },
    {
      "cell_type": "code",
      "execution_count": 10,
      "metadata": {
        "id": "gyGvVSAqXTVb"
      },
      "outputs": [
        {
          "data": {
            "text/plain": [
              "[<matplotlib.lines.Line2D at 0x14fdc6d60>]"
            ]
          },
          "execution_count": 10,
          "metadata": {},
          "output_type": "execute_result"
        },
        {
          "data": {
            "image/png": "[encoded data removed]",
            "text/plain": [
              "<Figure size 432x288 with 1 Axes>"
            ]
          },
          "metadata": {
            "needs_background": "light"
          },
          "output_type": "display_data"
        }
      ],
      "source": [
        "plt.plot(train_ds.samples[0][19][:,3])"
      ]
    },
    {
      "cell_type": "code",
      "execution_count": 18,
      "metadata": {
        "id": "mfwKRH-rXiUV"
      },
      "outputs": [
        {
          "data": {
            "text/plain": [
              "[<matplotlib.lines.Line2D at 0x15a083d00>]"
            ]
          },
          "execution_count": 18,
          "metadata": {},
          "output_type": "execute_result"
        },
        {
          "data": {
            "image/png": "[encoded data removed]",
            "text/plain": [
              "<Figure size 432x288 with 1 Axes>"
            ]
          },
          "metadata": {
            "needs_background": "light"
          },
          "output_type": "display_data"
        }
      ],
      "source": [
        "plt.plot(train_cs.samples[0][:20,3])"
      ]
    }
  ],
  "metadata": {
    "colab": {
      "collapsed_sections": [],
      "include_colab_link": true,
      "name": "market_data.ipynb",
      "provenance": []
    },
    "kernelspec": {
      "display_name": "Python 3",
      "language": "python",
      "name": "python3"
    },
    "language_info": {
      "codemirror_mode": {
        "name": "ipython",
        "version": 3
      },
      "file_extension": ".py",
      "mimetype": "text/x-python",
      "name": "python",
      "nbconvert_exporter": "python",
      "pygments_lexer": "ipython3",
      "version": "3.9.10"
    }
  },
  "nbformat": 4,
  "nbformat_minor": 0
}
