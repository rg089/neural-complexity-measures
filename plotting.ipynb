{
 "cells": [
  {
   "cell_type": "code",
   "execution_count": 8,
   "metadata": {},
   "outputs": [],
   "source": [
    "import json\n",
    "import numpy as np\n",
    "import matplotlib.pyplot as plt\n",
    "import seaborn as sns\n",
    "import pandas as pd\n",
    "%matplotlib inline"
   ]
  },
  {
   "cell_type": "code",
   "execution_count": 9,
   "metadata": {},
   "outputs": [],
   "source": [
    "sns.set_style('darkgrid')"
   ]
  },
  {
   "cell_type": "code",
   "execution_count": 10,
   "metadata": {},
   "outputs": [],
   "source": [
    "def open_log(fname):\n",
    "    with open(fname, \"r\") as f:\n",
    "        log = json.load(f)\n",
    "    return log"
   ]
  },
  {
   "cell_type": "code",
   "execution_count": null,
   "metadata": {},
   "outputs": [],
   "source": [
    "log = open_log(\"logs_cs_with_nc_alpha.json\")"
   ]
  },
  {
   "cell_type": "code",
   "execution_count": null,
   "metadata": {},
   "outputs": [],
   "source": [
    "train_metrics = log['train'].keys()\n",
    "test_metrics = log['test'].keys()"
   ]
  },
  {
   "cell_type": "code",
   "execution_count": 12,
   "metadata": {},
   "outputs": [],
   "source": [
    "def plot(log, type_='train', metric='loss', path=\"fig.png\"):\n",
    "    vals = log[type_][metric]\n",
    "    x = 'steps' if type_ == 'train' else 'epochs'\n",
    "    plt.figure()\n",
    "    steps = min(len(vals), 16000)\n",
    "    plt.plot(range(steps), vals[:steps])\n",
    "    plt.title(f'{type_}: {metric} vs {x}')\n",
    "    plt.xlabel(x)\n",
    "    plt.ylabel(metric)\n",
    "    file_name = \"{}_{}.png\".format(type_, metric)\n",
    "    save_path = os.path.join(path, file_name)\n",
    "    plt.savefig(save_path)\n",
    "    plt.close()\n",
    "    # plt.show()"
   ]
  },
  {
   "cell_type": "code",
   "execution_count": null,
   "metadata": {},
   "outputs": [],
   "source": [
    "for metric in train_metrics:\n",
    "    plot(log, type_='train', metric=metric)"
   ]
  },
  {
   "cell_type": "code",
   "execution_count": null,
   "metadata": {},
   "outputs": [],
   "source": [
    "for metric in test_metrics:\n",
    "    plot(log, type_='test', metric=metric)"
   ]
  },
  {
   "cell_type": "code",
   "execution_count": 13,
   "metadata": {},
   "outputs": [],
   "source": [
    "import os\n",
    "json_files = [pos_json for pos_json in os.listdir(\"./\") if pos_json.endswith('.json')]\n",
    "root = \"./plots\"\n",
    "for i in json_files:\n",
    "    log = open_log(i)\n",
    "    train_metrics = log['train'].keys()\n",
    "    test_metrics = log['test'].keys()\n",
    "    folder_name = i.split(\".\")[0]\n",
    "    folder_path = os.path.join(root,folder_name)\n",
    "    if not os.path.exists(folder_path):\n",
    "        os.makedirs(folder_path)\n",
    "    for metric in train_metrics:\n",
    "        plot(log, type_='train', metric=metric, path=folder_path)\n",
    "    for metric in test_metrics:\n",
    "        plot(log, type_='test', metric=metric, path=folder_path)\n",
    "    "
   ]
  },
  {
   "cell_type": "code",
   "execution_count": null,
   "metadata": {},
   "outputs": [],
   "source": []
  }
 ],
 "metadata": {
  "interpreter": {
   "hash": "6387572d3ba60263f2472b530ce49454bee9bd13656fbfcf29efcd586b712758"
  },
  "kernelspec": {
   "display_name": "Python 3.9.12 ('mtl')",
   "language": "python",
   "name": "python3"
  },
  "language_info": {
   "codemirror_mode": {
    "name": "ipython",
    "version": 3
   },
   "file_extension": ".py",
   "mimetype": "text/x-python",
   "name": "python",
   "nbconvert_exporter": "python",
   "pygments_lexer": "ipython3",
   "version": "3.7.11"
  },
  "orig_nbformat": 4
 },
 "nbformat": 4,
 "nbformat_minor": 2
}
