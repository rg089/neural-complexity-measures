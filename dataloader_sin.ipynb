{
 "cells": [
  {
   "cell_type": "code",
   "execution_count": 1,
   "metadata": {},
   "outputs": [
    {
     "name": "stderr",
     "output_type": "stream",
     "text": [
      "/Users/rishabh/miniforge3/envs/mtl/lib/python3.9/site-packages/tqdm/auto.py:22: TqdmWarning: IProgress not found. Please update jupyter and ipywidgets. See https://ipywidgets.readthedocs.io/en/stable/user_install.html\n",
      "  from .autonotebook import tqdm as notebook_tqdm\n"
     ]
    }
   ],
   "source": [
    "import os\n",
    "import random\n",
    "import uuid\n",
    "from collections import defaultdict\n",
    "from timeit import default_timer as timer\n",
    "\n",
    "import numpy as np\n",
    "import torch\n",
    "import torch.nn as nn\n",
    "import torch.nn.functional as F\n",
    "from loguru import logger\n",
    "from torch.distributions.normal import Normal\n",
    "# from torch.utils.tensorboard import SummaryWriter\n",
    "\n",
    "import math\n",
    "\n",
    "import torch\n",
    "import torch.nn as nn\n",
    "import torch.nn.functional as F\n",
    "from torch.nn.parameter import Parameter\n",
    "import os, pickle"
   ]
  },
  {
   "cell_type": "code",
   "execution_count": 9,
   "metadata": {},
   "outputs": [],
   "source": [
    "import torch\n",
    "from torchmeta.toy import Sinusoid\n",
    "from torchmeta.transforms import ClassSplitter\n",
    "from torchmeta.utils.data import BatchMetaDataLoader\n",
    "\n",
    "\n",
    "class ToTensor1D(object):\n",
    "    \"\"\"Convert a `numpy.ndarray` to tensor. Unlike `ToTensor` from torchvision,\n",
    "    this converts numpy arrays regardless of the number of dimensions.\n",
    "\n",
    "    Converts automatically the array to `float32`.\n",
    "    \"\"\"\n",
    "\n",
    "    def __call__(self, array):\n",
    "        return torch.tensor(array.astype(\"float32\"))\n",
    "\n",
    "    def __repr__(self):\n",
    "        return self.__class__.__name__ + \"()\"\n",
    "\n",
    "\n",
    "def get_sine_loader(batch_size, num_steps, shots=10, test_shots=15):\n",
    "    dataset_transform = ClassSplitter(\n",
    "        shuffle=True, num_train_per_class=shots, num_test_per_class=test_shots\n",
    "    )\n",
    "    transform = ToTensor1D()\n",
    "    dataset = Sinusoid(\n",
    "        shots + test_shots,\n",
    "        num_tasks=batch_size * num_steps,\n",
    "        transform=transform,\n",
    "        target_transform=transform,\n",
    "        dataset_transform=dataset_transform,\n",
    "    )\n",
    "    loader = BatchMetaDataLoader(\n",
    "        dataset, batch_size=batch_size, shuffle=True, num_workers=0, pin_memory=True,\n",
    "    )\n",
    "    return loader"
   ]
  },
  {
   "cell_type": "code",
   "execution_count": 10,
   "metadata": {},
   "outputs": [],
   "source": [
    "def get_loader(task, batch_size, num_steps):\n",
    "    if task == \"sine\":\n",
    "        loader = get_sine_loader(batch_size=batch_size, num_steps=num_steps)\n",
    "    else:\n",
    "        raise ValueError(f\"task={task} is not implemented\")\n",
    "    return loader\n",
    "\n",
    "\n",
    "def get_task(saved, task, batch_size, num_steps):\n",
    "    if not saved:\n",
    "        return get_loader(task, batch_size, num_steps)\n",
    "\n",
    "    os.makedirs(\"data/saved\", exist_ok=True)\n",
    "    filename = f\"data/saved/{task}_{batch_size}_{num_steps}.pkl\"\n",
    "\n",
    "    if os.path.exists(filename):\n",
    "        with open(filename, \"rb\") as handle:\n",
    "            tasks = pickle.load(handle)\n",
    "    else:\n",
    "        test_task_gen = get_loader(\n",
    "            task=task, batch_size=batch_size, num_steps=num_steps\n",
    "        )\n",
    "        tasks = [t for t in test_task_gen]\n",
    "        with open(filename, \"wb\") as handle:\n",
    "            pickle.dump(tasks, handle, protocol=pickle.HIGHEST_PROTOCOL)\n",
    "    return tasks\n"
   ]
  },
  {
   "cell_type": "code",
   "execution_count": 11,
   "metadata": {},
   "outputs": [],
   "source": [
    "test_tasks = get_task(\n",
    "    saved=True,\n",
    "    task= \"sine\",\n",
    "    batch_size= 64,\n",
    "    num_steps= 250,\n",
    ")"
   ]
  },
  {
   "cell_type": "code",
   "execution_count": null,
   "metadata": {},
   "outputs": [],
   "source": []
  }
 ],
 "metadata": {
  "interpreter": {
   "hash": "6387572d3ba60263f2472b530ce49454bee9bd13656fbfcf29efcd586b712758"
  },
  "kernelspec": {
   "display_name": "Python 3.9.12 ('mtl')",
   "language": "python",
   "name": "python3"
  },
  "language_info": {
   "codemirror_mode": {
    "name": "ipython",
    "version": 3
   },
   "file_extension": ".py",
   "mimetype": "text/x-python",
   "name": "python",
   "nbconvert_exporter": "python",
   "pygments_lexer": "ipython3",
   "version": "3.9.12"
  },
  "orig_nbformat": 4
 },
 "nbformat": 4,
 "nbformat_minor": 2
}
